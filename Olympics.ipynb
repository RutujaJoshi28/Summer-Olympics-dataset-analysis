{
  "nbformat": 4,
  "nbformat_minor": 0,
  "metadata": {
    "colab": {
      "name": "Olympics.ipynb",
      "provenance": []
    },
    "kernelspec": {
      "name": "python3",
      "display_name": "Python 3"
    },
    "language_info": {
      "name": "python"
    }
  },
  "cells": [
    {
      "cell_type": "markdown",
      "metadata": {
        "id": "pzSZ-pYPuHez"
      },
      "source": [
        "\n",
        "\n",
        "\n",
        "\n",
        "\n",
        "\n",
        "\n",
        "# **Summer Olympics Data Analysis Assignment**"
      ]
    },
    {
      "cell_type": "markdown",
      "metadata": {
        "id": "MnqNUvXcubdT"
      },
      "source": [
        "##**1. In how many cities Summer Olympics is held so far?**\n",
        "\n",
        "\n",
        "\n",
        "\n",
        "\n"
      ]
    },
    {
      "cell_type": "code",
      "metadata": {
        "id": "jHIvU85TuB6H"
      },
      "source": [
        "# Joshi Rutuja Vishnupant\n",
        "# Batch 1\n",
        "\n",
        "# importing pandas library\n",
        "\n",
        "import pandas as pd\n",
        "df=pd.read_csv(\"summer.csv\")\n",
        "\n"
      ],
      "execution_count": 6,
      "outputs": []
    },
    {
      "cell_type": "code",
      "metadata": {
        "colab": {
          "base_uri": "https://localhost:8080/"
        },
        "id": "D44q_1wUznmm",
        "outputId": "06b40553-c483-46e0-fd52-d36628a7680e"
      },
      "source": [
        "Total_cities=len(df['City'].unique())\n",
        "print(\"In\",Total_cities,\"cities Summer Olympics is held so far\")\n"
      ],
      "execution_count": 7,
      "outputs": [
        {
          "output_type": "stream",
          "name": "stdout",
          "text": [
            "In 22 cities Summer Olympics is held so far\n"
          ]
        }
      ]
    },
    {
      "cell_type": "markdown",
      "metadata": {
        "id": "W1SJ047qpENU"
      },
      "source": [
        "##**Ans:** \n",
        "####In 22 cities Summer Olympics is held so far\n",
        "\n"
      ]
    },
    {
      "cell_type": "markdown",
      "metadata": {
        "id": "k2glmw--uiGz"
      },
      "source": [
        "##**2. Which sport is having most number of Gold Medals so far? (Top 5)**"
      ]
    },
    {
      "cell_type": "code",
      "metadata": {
        "colab": {
          "base_uri": "https://localhost:8080/"
        },
        "id": "X61i1_Hmpguf",
        "outputId": "6df6f7da-ad0c-401d-aaf6-71e40bf9cd4c"
      },
      "source": [
        "Sport_name=df[(df.Medal=='Gold')].Sport\n",
        "Sport_name.value_counts().head()"
      ],
      "execution_count": 14,
      "outputs": [
        {
          "output_type": "execute_result",
          "data": {
            "text/plain": [
              "Aquatics      1421\n",
              "Athletics     1215\n",
              "Rowing         890\n",
              "Gymnastics     820\n",
              "Fencing        552\n",
              "Name: Sport, dtype: int64"
            ]
          },
          "metadata": {},
          "execution_count": 14
        }
      ]
    },
    {
      "cell_type": "code",
      "metadata": {
        "colab": {
          "base_uri": "https://localhost:8080/",
          "height": 385
        },
        "id": "w-VW25RLICsb",
        "outputId": "41c51c04-7b76-40d7-8078-fc8026851caa"
      },
      "source": [
        "Sport_name=df[(df.Medal=='Gold')].Sport\n",
        "Sport_name.value_counts().head().plot.bar(color=\"Maroon\",figsize=(10,5))"
      ],
      "execution_count": 33,
      "outputs": [
        {
          "output_type": "execute_result",
          "data": {
            "text/plain": [
              "<matplotlib.axes._subplots.AxesSubplot at 0x7f27459b56d0>"
            ]
          },
          "metadata": {},
          "execution_count": 33
        },
        {
          "output_type": "display_data",
          "data": {
            "image/png": "[encoded data removed]",
            "text/plain": [
              "<Figure size 720x360 with 1 Axes>"
            ]
          },
          "metadata": {
            "needs_background": "light"
          }
        }
      ]
    },
    {
      "cell_type": "markdown",
      "metadata": {
        "id": "a5uhWminqmxt"
      },
      "source": [
        "#**Ans:** \n",
        "####Following Sports are having most number of gold medals so far\n",
        "#### Aquatics      1421\n",
        "####Athletics     1215\n",
        "####Rowing         890\n",
        "####Gymnastics     820\n",
        "####Fencing        552"
      ]
    },
    {
      "cell_type": "markdown",
      "metadata": {
        "id": "N9ro9MFqutYF"
      },
      "source": [
        "##**3. Which sport is having most number of medals so far? (Top 5)**"
      ]
    },
    {
      "cell_type": "code",
      "metadata": {
        "colab": {
          "base_uri": "https://localhost:8080/"
        },
        "id": "RGEe-UHn62Xb",
        "outputId": "2030bf95-b7d0-409e-db9c-258006acb190"
      },
      "source": [
        "df.groupby('Sport').count()['Medal'].sort_values(ascending=False).head()"
      ],
      "execution_count": null,
      "outputs": [
        {
          "output_type": "execute_result",
          "data": {
            "text/plain": [
              "Sport\n",
              "Aquatics      4170\n",
              "Athletics     3638\n",
              "Rowing        2667\n",
              "Gymnastics    2307\n",
              "Fencing       1613\n",
              "Name: Medal, dtype: int64"
            ]
          },
          "metadata": {},
          "execution_count": 4
        }
      ]
    },
    {
      "cell_type": "code",
      "metadata": {
        "colab": {
          "base_uri": "https://localhost:8080/"
        },
        "id": "zYJ9YaSJjLC_",
        "outputId": "bb16b202-9bdb-4293-aae1-8ee7a7e7334f"
      },
      "source": [
        "print(\"Aquatics sport is having most number of medals i.e. 4170 medals so far\")"
      ],
      "execution_count": null,
      "outputs": [
        {
          "output_type": "stream",
          "name": "stdout",
          "text": [
            "Aquatics sport is having most number of medals i.e. 4170 medals so far\n"
          ]
        }
      ]
    },
    {
      "cell_type": "code",
      "metadata": {
        "colab": {
          "base_uri": "https://localhost:8080/",
          "height": 399
        },
        "id": "57wwQ1zxi8oE",
        "outputId": "8451d8cf-088a-4225-ad4d-b40aa4c4edeb"
      },
      "source": [
        "df.groupby('Sport').count()['Medal'].sort_values(ascending=False).head().plot.bar(color='purple',figsize=(10,5))"
      ],
      "execution_count": 28,
      "outputs": [
        {
          "output_type": "execute_result",
          "data": {
            "text/plain": [
              "<matplotlib.axes._subplots.AxesSubplot at 0x7f2745db2910>"
            ]
          },
          "metadata": {},
          "execution_count": 28
        },
        {
          "output_type": "display_data",
          "data": {
            "image/png": "[encoded data removed]",
            "text/plain": [
              "<Figure size 720x360 with 1 Axes>"
            ]
          },
          "metadata": {
            "needs_background": "light"
          }
        }
      ]
    },
    {
      "cell_type": "markdown",
      "metadata": {
        "id": "a-dTYJaesS1d"
      },
      "source": [
        "#**Ans:** \n",
        "####Following Sports are having most number of gold medals so far\n",
        "####Aquatics      4170\n",
        "####Athletics     3638\n",
        "####Rowing        2667\n",
        "####Gymnastics    2307\n",
        "####Fencing       1613"
      ]
    },
    {
      "cell_type": "markdown",
      "metadata": {
        "id": "c-P2ekUTuvfj"
      },
      "source": [
        "##**4. Which player has won most number of medals? (Top 5)**"
      ]
    },
    {
      "cell_type": "code",
      "metadata": {
        "colab": {
          "base_uri": "https://localhost:8080/"
        },
        "id": "payTqiV2dIif",
        "outputId": "03b000b4-d2f6-4d57-bf3c-96e5f38d54fd"
      },
      "source": [
        "df.groupby('Athlete').count()['Medal'].sort_values(ascending=False).head()"
      ],
      "execution_count": null,
      "outputs": [
        {
          "output_type": "execute_result",
          "data": {
            "text/plain": [
              "Athlete\n",
              "PHELPS, Michael         22\n",
              "LATYNINA, Larisa        18\n",
              "ANDRIANOV, Nikolay      15\n",
              "MANGIAROTTI, Edoardo    13\n",
              "SHAKHLIN, Boris         13\n",
              "Name: Medal, dtype: int64"
            ]
          },
          "metadata": {},
          "execution_count": 27
        }
      ]
    },
    {
      "cell_type": "code",
      "metadata": {
        "colab": {
          "base_uri": "https://localhost:8080/"
        },
        "id": "ptzAE8uydq1N",
        "outputId": "99689487-2b76-46cb-d153-7df53408e5b8"
      },
      "source": [
        "print(\"PHELPS, Michael has won the most number of medals i.e. 22\")"
      ],
      "execution_count": null,
      "outputs": [
        {
          "output_type": "stream",
          "name": "stdout",
          "text": [
            "PHELPS, Michael has won the most number of medals i.e. 22\n"
          ]
        }
      ]
    },
    {
      "cell_type": "code",
      "metadata": {
        "colab": {
          "base_uri": "https://localhost:8080/",
          "height": 459
        },
        "id": "KJW7Qbhpcunc",
        "outputId": "3ec47b7d-4895-41f4-8bc6-bfd1b8eb7dae"
      },
      "source": [
        "df.groupby('Athlete').count()['Medal'].sort_values(ascending=False).head().plot.bar(color='orange',figsize=(10,5))"
      ],
      "execution_count": 29,
      "outputs": [
        {
          "output_type": "execute_result",
          "data": {
            "text/plain": [
              "<matplotlib.axes._subplots.AxesSubplot at 0x7f2745c915d0>"
            ]
          },
          "metadata": {},
          "execution_count": 29
        },
        {
          "output_type": "display_data",
          "data": {
            "image/png": "[encoded data removed]",
            "text/plain": [
              "<Figure size 720x360 with 1 Axes>"
            ]
          },
          "metadata": {
            "needs_background": "light"
          }
        }
      ]
    },
    {
      "cell_type": "markdown",
      "metadata": {
        "id": "0OXTc9SLsvpp"
      },
      "source": [
        "**Ans:** \n",
        "####Athletes            \n",
        "####PHELPS, Michael         22\n",
        "####LATYNINA, Larisa        18\n",
        "####ANDRIANOV, Nikolay      15\n",
        "####MANGIAROTTI, Edoardo    13\n",
        "####SHAKHLIN, Boris         13"
      ]
    },
    {
      "cell_type": "markdown",
      "metadata": {
        "id": "e-7eZ2icuzk3"
      },
      "source": [
        "##**5. Which player has won most number Gold Medals of medals? (Top 5)**"
      ]
    },
    {
      "cell_type": "code",
      "metadata": {
        "colab": {
          "base_uri": "https://localhost:8080/"
        },
        "id": "Mr4pSqxztYTM",
        "outputId": "c6af70eb-d58f-4f18-bd98-c574ebcf1b15"
      },
      "source": [
        "Athlete_name=df[(df.Medal=='Gold')].Athlete\n",
        "Athlete_name.value_counts().head()"
      ],
      "execution_count": 15,
      "outputs": [
        {
          "output_type": "execute_result",
          "data": {
            "text/plain": [
              "PHELPS, Michael     18\n",
              "LATYNINA, Larisa     9\n",
              "SPITZ, Mark          9\n",
              "LEWIS, Carl          9\n",
              "NURMI, Paavo         9\n",
              "Name: Athlete, dtype: int64"
            ]
          },
          "metadata": {},
          "execution_count": 15
        }
      ]
    },
    {
      "cell_type": "code",
      "metadata": {
        "id": "fBZUXlPau5K_",
        "colab": {
          "base_uri": "https://localhost:8080/",
          "height": 413
        },
        "outputId": "6aaec74f-8101-4bff-b8c4-7aecda6b270c"
      },
      "source": [
        "\n",
        "Athlete_name=df[(df.Medal=='Gold')].Athlete\n",
        "Athlete_name.value_counts().head().plot.bar(color=\"Green\",figsize=(10,5))"
      ],
      "execution_count": 30,
      "outputs": [
        {
          "output_type": "execute_result",
          "data": {
            "text/plain": [
              "<matplotlib.axes._subplots.AxesSubplot at 0x7f2745abcd50>"
            ]
          },
          "metadata": {},
          "execution_count": 30
        },
        {
          "output_type": "display_data",
          "data": {
            "image/png": "[encoded data removed]",
            "text/plain": [
              "<Figure size 720x360 with 1 Axes>"
            ]
          },
          "metadata": {
            "needs_background": "light"
          }
        }
      ]
    },
    {
      "cell_type": "code",
      "metadata": {
        "colab": {
          "base_uri": "https://localhost:8080/"
        },
        "id": "iSxsIMFh-lqd",
        "outputId": "31fc732a-ee78-42d4-c739-5c5ec595ba2e"
      },
      "source": [
        "print(\"PHELPS, Michae won most number of gold medals i.e. 18\")"
      ],
      "execution_count": null,
      "outputs": [
        {
          "output_type": "stream",
          "name": "stdout",
          "text": [
            "PHELPS, Michae won most number of gold medals i.e. 18\n"
          ]
        }
      ]
    },
    {
      "cell_type": "markdown",
      "metadata": {
        "id": "6fvO7nxJtdmx"
      },
      "source": [
        "##**Ans:**\n",
        "####PHELPS, Michael     18\n",
        "####LATYNINA, Larisa     9\n",
        "####SPITZ, Mark          9\n",
        "####LEWIS, Carl          9\n",
        "####NURMI, Paavo         9"
      ]
    },
    {
      "cell_type": "markdown",
      "metadata": {
        "id": "E_iz8egKu5ot"
      },
      "source": [
        "##**6. In which year India won first Gold Medal in Summer Olympics?**"
      ]
    },
    {
      "cell_type": "code",
      "metadata": {
        "id": "bI17eeVVLjtp",
        "colab": {
          "base_uri": "https://localhost:8080/"
        },
        "outputId": "37630a34-82ef-4a1a-c8bd-f521b22f3334"
      },
      "source": [
        "year=df[(df.Medal=='Gold') & (df.Country=='IND')].Year\n",
        "#year.value_counts().plot.bar()\n",
        "year\n"
      ],
      "execution_count": 4,
      "outputs": [
        {
          "output_type": "execute_result",
          "data": {
            "text/plain": [
              "5512     1928\n",
              "5513     1928\n",
              "5514     1928\n",
              "5515     1928\n",
              "5516     1928\n",
              "         ... \n",
              "16099    1980\n",
              "16100    1980\n",
              "16101    1980\n",
              "16102    1980\n",
              "28856    2008\n",
              "Name: Year, Length: 128, dtype: int64"
            ]
          },
          "metadata": {},
          "execution_count": 4
        }
      ]
    },
    {
      "cell_type": "markdown",
      "metadata": {
        "id": "EbyKYEpFuBox"
      },
      "source": [
        "##**Ans:**\n",
        "####In 1928 India won first Gold Medal in Summer Olympics"
      ]
    },
    {
      "cell_type": "markdown",
      "metadata": {
        "id": "kGSKUHFsu9nl"
      },
      "source": [
        "##7. Which event is most popular in terms on number of players? (Top 5)"
      ]
    },
    {
      "cell_type": "code",
      "metadata": {
        "id": "ZPwzRC29vCKs",
        "colab": {
          "base_uri": "https://localhost:8080/",
          "height": 431
        },
        "outputId": "eee73438-d980-44b0-827e-ffd6d2e24863"
      },
      "source": [
        "data=[]\n",
        "for Country in (df['Event']).unique():\n",
        "  data.append([Country,len(df[df['Event']==Country])])\n",
        "data=pd.DataFrame(data,columns=['Event','Freq'])\n",
        "data=data.sort_values(by=\"Freq\",ascending=False).head()\n",
        "data.plot(x='Event',y=\"Freq\",kind=\"bar\",figsize=(10,5),color=\"Yellow\")"
      ],
      "execution_count": 20,
      "outputs": [
        {
          "output_type": "execute_result",
          "data": {
            "text/plain": [
              "<matplotlib.axes._subplots.AxesSubplot at 0x7f2745f43790>"
            ]
          },
          "metadata": {},
          "execution_count": 20
        },
        {
          "output_type": "display_data",
          "data": {
            "image/png": "[encoded data removed]",
            "text/plain": [
              "<Figure size 720x360 with 1 Axes>"
            ]
          },
          "metadata": {
            "needs_background": "light"
          }
        }
      ]
    },
    {
      "cell_type": "code",
      "metadata": {
        "colab": {
          "base_uri": "https://localhost:8080/",
          "height": 206
        },
        "id": "pfmU7WJ-slmv",
        "outputId": "11561930-ccfa-435f-8882-40282d1599c4"
      },
      "source": [
        "data\n"
      ],
      "execution_count": null,
      "outputs": [
        {
          "output_type": "execute_result",
          "data": {
            "text/html": [
              "<div>\n",
              "<style scoped>\n",
              "    .dataframe tbody tr th:only-of-type {\n",
              "        vertical-align: middle;\n",
              "    }\n",
              "\n",
              "    .dataframe tbody tr th {\n",
              "        vertical-align: top;\n",
              "    }\n",
              "\n",
              "    .dataframe thead th {\n",
              "        text-align: right;\n",
              "    }\n",
              "</style>\n",
              "<table border=\"1\" class=\"dataframe\">\n",
              "  <thead>\n",
              "    <tr style=\"text-align: right;\">\n",
              "      <th></th>\n",
              "      <th>Event</th>\n",
              "      <th>Freq</th>\n",
              "    </tr>\n",
              "  </thead>\n",
              "  <tbody>\n",
              "    <tr>\n",
              "      <th>80</th>\n",
              "      <td>Football</td>\n",
              "      <td>1497</td>\n",
              "    </tr>\n",
              "    <tr>\n",
              "      <th>176</th>\n",
              "      <td>Hockey</td>\n",
              "      <td>1422</td>\n",
              "    </tr>\n",
              "    <tr>\n",
              "      <th>138</th>\n",
              "      <td>Team Competition</td>\n",
              "      <td>1147</td>\n",
              "    </tr>\n",
              "    <tr>\n",
              "      <th>327</th>\n",
              "      <td>Basketball</td>\n",
              "      <td>1012</td>\n",
              "    </tr>\n",
              "    <tr>\n",
              "      <th>337</th>\n",
              "      <td>Handball</td>\n",
              "      <td>973</td>\n",
              "    </tr>\n",
              "  </tbody>\n",
              "</table>\n",
              "</div>"
            ],
            "text/plain": [
              "                Event  Freq\n",
              "80           Football  1497\n",
              "176            Hockey  1422\n",
              "138  Team Competition  1147\n",
              "327        Basketball  1012\n",
              "337          Handball   973"
            ]
          },
          "metadata": {},
          "execution_count": 4
        }
      ]
    },
    {
      "cell_type": "code",
      "metadata": {
        "colab": {
          "base_uri": "https://localhost:8080/"
        },
        "id": "8497YE1StA4T",
        "outputId": "65ec3854-fe95-48da-aa9e-539d3ea53cc9"
      },
      "source": [
        "print(\"Football event is most popular in terms on number of players i.e total 1497 players\")"
      ],
      "execution_count": null,
      "outputs": [
        {
          "output_type": "stream",
          "name": "stdout",
          "text": [
            "Football event is most popular in terms on number of players i.e total 1497 players\n"
          ]
        }
      ]
    },
    {
      "cell_type": "markdown",
      "metadata": {
        "id": "3T25Z66RuYSY"
      },
      "source": [
        "##**Ans:**\n",
        "####Football event is most popular in terms on number of players i.e total 1497 players\n",
        "####Football\t1497\n",
        "####Hockey\t1422\n",
        "####Team Competition\t1147\n",
        "####Basketball\t1012\n",
        "####Handball\t973"
      ]
    },
    {
      "cell_type": "markdown",
      "metadata": {
        "id": "X8lbokErvCjF"
      },
      "source": [
        "##**8. Which sport is having most female Gold Medalists? (Top 5)**"
      ]
    },
    {
      "cell_type": "code",
      "metadata": {
        "colab": {
          "base_uri": "https://localhost:8080/"
        },
        "id": "DcBEYmbMuxXr",
        "outputId": "5f9dded5-2013-440a-ad7d-7776404f8cf9"
      },
      "source": [
        "female=df[(df.Medal=='Gold') & (df.Gender=='Women')].Sport\n",
        "female.value_counts().head()"
      ],
      "execution_count": 16,
      "outputs": [
        {
          "output_type": "execute_result",
          "data": {
            "text/plain": [
              "Aquatics      589\n",
              "Athletics     389\n",
              "Gymnastics    268\n",
              "Rowing        217\n",
              "Volleyball    166\n",
              "Name: Sport, dtype: int64"
            ]
          },
          "metadata": {},
          "execution_count": 16
        }
      ]
    },
    {
      "cell_type": "code",
      "metadata": {
        "id": "2SxVJgOlvG-L",
        "colab": {
          "base_uri": "https://localhost:8080/",
          "height": 385
        },
        "outputId": "50657f88-71ad-40ef-81f6-79872fe905af"
      },
      "source": [
        "female=df[(df.Medal=='Gold') & (df.Gender=='Women')].Sport\n",
        "female.value_counts().head().plot.bar(color=\"Red\",figsize=(10,5))"
      ],
      "execution_count": 32,
      "outputs": [
        {
          "output_type": "execute_result",
          "data": {
            "text/plain": [
              "<matplotlib.axes._subplots.AxesSubplot at 0x7f2745a57d90>"
            ]
          },
          "metadata": {},
          "execution_count": 32
        },
        {
          "output_type": "display_data",
          "data": {
            "image/png": "[encoded data removed]",
            "text/plain": [
              "<Figure size 720x360 with 1 Axes>"
            ]
          },
          "metadata": {
            "needs_background": "light"
          }
        }
      ]
    },
    {
      "cell_type": "markdown",
      "metadata": {
        "id": "LP4ySxywKQ6r"
      },
      "source": [
        "##**Ans:**\n",
        "####Aquatics      589\n",
        "####Athletics     389\n",
        "####Gymnastics    268\n",
        "####Rowing        217\n",
        "####Volleyball    166\n",
        "\n"
      ]
    },
    {
      "cell_type": "code",
      "metadata": {
        "id": "DtQXulSVKR1H"
      },
      "source": [
        ""
      ],
      "execution_count": null,
      "outputs": []
    }
  ]
}